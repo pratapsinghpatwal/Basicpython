{
 "cells": [
  {
   "cell_type": "code",
   "execution_count": 1,
   "id": "69419436",
   "metadata": {},
   "outputs": [],
   "source": [
    "## Herer we are going to learn the concept of string in python\n"
   ]
  },
  {
   "cell_type": "code",
   "execution_count": 3,
   "id": "f8fe5273",
   "metadata": {},
   "outputs": [],
   "source": [
    "first=\"pratap\"\n",
    "last=\"patwal\"\n"
   ]
  },
  {
   "cell_type": "code",
   "execution_count": 4,
   "id": "b72c3cf6",
   "metadata": {},
   "outputs": [
    {
     "data": {
      "text/plain": [
       "'pratap'"
      ]
     },
     "execution_count": 4,
     "metadata": {},
     "output_type": "execute_result"
    }
   ],
   "source": [
    "first\n"
   ]
  },
  {
   "cell_type": "code",
   "execution_count": 6,
   "id": "7322753d",
   "metadata": {},
   "outputs": [
    {
     "data": {
      "text/plain": [
       "str"
      ]
     },
     "execution_count": 6,
     "metadata": {},
     "output_type": "execute_result"
    }
   ],
   "source": [
    "type(first)"
   ]
  },
  {
   "cell_type": "code",
   "execution_count": 9,
   "id": "2bf18569",
   "metadata": {},
   "outputs": [
    {
     "data": {
      "text/plain": [
       "'pratap patwal'"
      ]
     },
     "execution_count": 9,
     "metadata": {},
     "output_type": "execute_result"
    }
   ],
   "source": [
    "name=first+ \" \" +last\n",
    "name"
   ]
  },
  {
   "cell_type": "code",
   "execution_count": 13,
   "id": "6e682bce",
   "metadata": {},
   "outputs": [
    {
     "data": {
      "text/plain": [
       "' pratap patwal is helthy'"
      ]
     },
     "execution_count": 13,
     "metadata": {},
     "output_type": "execute_result"
    }
   ],
   "source": [
    "name=f' {first} {last} is helthy'\n",
    "name"
   ]
  },
  {
   "cell_type": "code",
   "execution_count": 18,
   "id": "e986855f",
   "metadata": {},
   "outputs": [
    {
     "data": {
      "text/plain": [
       "(' ', 'p')"
      ]
     },
     "execution_count": 18,
     "metadata": {},
     "output_type": "execute_result"
    }
   ],
   "source": [
    "name[0], name[1]  # print values of index values"
   ]
  },
  {
   "cell_type": "code",
   "execution_count": 23,
   "id": "90e05a35",
   "metadata": {},
   "outputs": [
    {
     "data": {
      "text/plain": [
       "'pratap'"
      ]
     },
     "execution_count": 23,
     "metadata": {},
     "output_type": "execute_result"
    }
   ],
   "source": [
    "name[1:7]   # slice index you can get substring from the string\n"
   ]
  },
  {
   "cell_type": "code",
   "execution_count": 25,
   "id": "76e9cd48",
   "metadata": {},
   "outputs": [
    {
     "data": {
      "text/plain": [
       "' pratap'"
      ]
     },
     "execution_count": 25,
     "metadata": {},
     "output_type": "execute_result"
    }
   ],
   "source": [
    "name[:7]"
   ]
  },
  {
   "cell_type": "code",
   "execution_count": 27,
   "id": "450c28ff",
   "metadata": {},
   "outputs": [
    {
     "data": {
      "text/plain": [
       "'y'"
      ]
     },
     "execution_count": 27,
     "metadata": {},
     "output_type": "execute_result"
    }
   ],
   "source": [
    "name[-1]"
   ]
  },
  {
   "cell_type": "code",
   "execution_count": 34,
   "id": "930f6d2d",
   "metadata": {},
   "outputs": [
    {
     "data": {
      "text/plain": [
       "'y'"
      ]
     },
     "execution_count": 34,
     "metadata": {},
     "output_type": "execute_result"
    }
   ],
   "source": [
    "name[-1:]"
   ]
  },
  {
   "cell_type": "code",
   "execution_count": 35,
   "id": "e94c736c",
   "metadata": {},
   "outputs": [],
   "source": [
    "# to print multiline we have to use  ''' three doublel quoates\n"
   ]
  },
  {
   "cell_type": "code",
   "execution_count": 37,
   "id": "89b21fa7",
   "metadata": {},
   "outputs": [],
   "source": [
    "food_review=''' This cozy restaurant has left the best impressions! \n",
    "Hospitable hosts, delicious dishes, beautiful presentation,\n",
    "wide wine list and wonderful dessert. I recommend to everyone!\n",
    "I would like to come back here again and again.\n",
    "\n",
    "'''"
   ]
  },
  {
   "cell_type": "code",
   "execution_count": 41,
   "id": "19c8a1f0",
   "metadata": {},
   "outputs": [
    {
     "data": {
      "text/plain": [
       "' This cozy restaurant has left the best impressions! Hospitable hosts, delicious dishes, beautiful presentation, wide wine list and wonderful dessert. I recommend to everyone! I would like to come back here again and again.\\n\\n'"
      ]
     },
     "execution_count": 41,
     "metadata": {},
     "output_type": "execute_result"
    }
   ],
   "source": [
    "food_review\n"
   ]
  },
  {
   "cell_type": "code",
   "execution_count": 43,
   "id": "4237f4e1",
   "metadata": {},
   "outputs": [
    {
     "name": "stdout",
     "output_type": "stream",
     "text": [
      " This cozy restaurant has left the best impressions! Hospitable hosts, delicious dishes, beautiful presentation, wide wine list and wonderful dessert. I recommend to everyone! I would like to come back here again and again.\n",
      "\n",
      "\n"
     ]
    }
   ],
   "source": [
    "print(food_review)\n"
   ]
  },
  {
   "cell_type": "code",
   "execution_count": 57,
   "id": "556a5d03",
   "metadata": {},
   "outputs": [],
   "source": [
    "s=\"             pratap\""
   ]
  },
  {
   "cell_type": "code",
   "execution_count": 47,
   "id": "7d72c4ee",
   "metadata": {},
   "outputs": [
    {
     "data": {
      "text/plain": [
       "['__add__',\n",
       " '__class__',\n",
       " '__contains__',\n",
       " '__delattr__',\n",
       " '__dir__',\n",
       " '__doc__',\n",
       " '__eq__',\n",
       " '__format__',\n",
       " '__ge__',\n",
       " '__getattribute__',\n",
       " '__getitem__',\n",
       " '__getnewargs__',\n",
       " '__gt__',\n",
       " '__hash__',\n",
       " '__init__',\n",
       " '__init_subclass__',\n",
       " '__iter__',\n",
       " '__le__',\n",
       " '__len__',\n",
       " '__lt__',\n",
       " '__mod__',\n",
       " '__mul__',\n",
       " '__ne__',\n",
       " '__new__',\n",
       " '__reduce__',\n",
       " '__reduce_ex__',\n",
       " '__repr__',\n",
       " '__rmod__',\n",
       " '__rmul__',\n",
       " '__setattr__',\n",
       " '__sizeof__',\n",
       " '__str__',\n",
       " '__subclasshook__',\n",
       " 'capitalize',\n",
       " 'casefold',\n",
       " 'center',\n",
       " 'count',\n",
       " 'encode',\n",
       " 'endswith',\n",
       " 'expandtabs',\n",
       " 'find',\n",
       " 'format',\n",
       " 'format_map',\n",
       " 'index',\n",
       " 'isalnum',\n",
       " 'isalpha',\n",
       " 'isascii',\n",
       " 'isdecimal',\n",
       " 'isdigit',\n",
       " 'isidentifier',\n",
       " 'islower',\n",
       " 'isnumeric',\n",
       " 'isprintable',\n",
       " 'isspace',\n",
       " 'istitle',\n",
       " 'isupper',\n",
       " 'join',\n",
       " 'ljust',\n",
       " 'lower',\n",
       " 'lstrip',\n",
       " 'maketrans',\n",
       " 'partition',\n",
       " 'removeprefix',\n",
       " 'removesuffix',\n",
       " 'replace',\n",
       " 'rfind',\n",
       " 'rindex',\n",
       " 'rjust',\n",
       " 'rpartition',\n",
       " 'rsplit',\n",
       " 'rstrip',\n",
       " 'split',\n",
       " 'splitlines',\n",
       " 'startswith',\n",
       " 'strip',\n",
       " 'swapcase',\n",
       " 'title',\n",
       " 'translate',\n",
       " 'upper',\n",
       " 'zfill']"
      ]
     },
     "execution_count": 47,
     "metadata": {},
     "output_type": "execute_result"
    }
   ],
   "source": [
    "dir(s)"
   ]
  },
  {
   "cell_type": "code",
   "execution_count": 58,
   "id": "31b78541",
   "metadata": {},
   "outputs": [
    {
     "data": {
      "text/plain": [
       "'             PRATAP'"
      ]
     },
     "execution_count": 58,
     "metadata": {},
     "output_type": "execute_result"
    }
   ],
   "source": [
    "\n",
    "s.upper()"
   ]
  },
  {
   "cell_type": "code",
   "execution_count": 59,
   "id": "5c7ae6a4",
   "metadata": {},
   "outputs": [
    {
     "data": {
      "text/plain": [
       "'             pratap'"
      ]
     },
     "execution_count": 59,
     "metadata": {},
     "output_type": "execute_result"
    }
   ],
   "source": [
    "s.lower()"
   ]
  },
  {
   "cell_type": "code",
   "execution_count": 66,
   "id": "5364816a",
   "metadata": {},
   "outputs": [],
   "source": [
    "s=s.strip()"
   ]
  },
  {
   "cell_type": "code",
   "execution_count": 63,
   "id": "6f35d7da",
   "metadata": {},
   "outputs": [],
   "source": [
    "age=33"
   ]
  },
  {
   "cell_type": "code",
   "execution_count": 69,
   "id": "8d5b6209",
   "metadata": {},
   "outputs": [
    {
     "data": {
      "text/plain": [
       "' Name  pratap  age is 33 '"
      ]
     },
     "execution_count": 69,
     "metadata": {},
     "output_type": "execute_result"
    }
   ],
   "source": [
    "f' Name  {s }  age is {age} ' "
   ]
  },
  {
   "cell_type": "code",
   "execution_count": 81,
   "id": "9e9abb77",
   "metadata": {},
   "outputs": [],
   "source": [
    "items=['Bread','Pasta','Fruit','Veggies']"
   ]
  },
  {
   "cell_type": "code",
   "execution_count": 73,
   "id": "5cfe5050",
   "metadata": {},
   "outputs": [
    {
     "data": {
      "text/plain": [
       "['Bread', 'Pasta', 'Fruit', 'Veggies']"
      ]
     },
     "execution_count": 73,
     "metadata": {},
     "output_type": "execute_result"
    }
   ],
   "source": [
    "items"
   ]
  },
  {
   "cell_type": "code",
   "execution_count": 82,
   "id": "e7a969ee",
   "metadata": {},
   "outputs": [
    {
     "data": {
      "text/plain": [
       "['Bread', 'Pasta', 'Fruit', 'Veggies', 'Buttor']"
      ]
     },
     "execution_count": 82,
     "metadata": {},
     "output_type": "execute_result"
    }
   ],
   "source": [
    "items.append('Buttor')  # appending an order at a particular list\n",
    "items"
   ]
  },
  {
   "cell_type": "code",
   "execution_count": 92,
   "id": "d2ec8b7b",
   "metadata": {},
   "outputs": [
    {
     "data": {
      "text/plain": [
       "['Bread', 'Pasta', 'paneer', 'Fruit', 'Veggies', 'Buttor']"
      ]
     },
     "execution_count": 92,
     "metadata": {},
     "output_type": "execute_result"
    }
   ],
   "source": [
    "items.insert(2,'paneer')   # adding an  items at a particular place\n",
    "items"
   ]
  },
  {
   "cell_type": "code",
   "execution_count": 93,
   "id": "ff4492c4",
   "metadata": {},
   "outputs": [
    {
     "name": "stdout",
     "output_type": "stream",
     "text": [
      "paneer is removed \n"
     ]
    }
   ],
   "source": [
    "items.remove('paneer')\n",
    "print('paneer is removed ')"
   ]
  },
  {
   "cell_type": "code",
   "execution_count": 97,
   "id": "228dc0f4",
   "metadata": {},
   "outputs": [
    {
     "data": {
      "text/plain": [
       "False"
      ]
     },
     "execution_count": 97,
     "metadata": {},
     "output_type": "execute_result"
    }
   ],
   "source": [
    "p='paneer' in items\n",
    "p"
   ]
  },
  {
   "cell_type": "code",
   "execution_count": 98,
   "id": "e95ea3bb",
   "metadata": {},
   "outputs": [
    {
     "data": {
      "text/plain": [
       "True"
      ]
     },
     "execution_count": 98,
     "metadata": {},
     "output_type": "execute_result"
    }
   ],
   "source": [
    "p='Buttor' in items\n",
    "p"
   ]
  }
 ],
 "metadata": {
  "kernelspec": {
   "display_name": "Python 3 (ipykernel)",
   "language": "python",
   "name": "python3"
  },
  "language_info": {
   "codemirror_mode": {
    "name": "ipython",
    "version": 3
   },
   "file_extension": ".py",
   "mimetype": "text/x-python",
   "name": "python",
   "nbconvert_exporter": "python",
   "pygments_lexer": "ipython3",
   "version": "3.9.13"
  }
 },
 "nbformat": 4,
 "nbformat_minor": 5
}
