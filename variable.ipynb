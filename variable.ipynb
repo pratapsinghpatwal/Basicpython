{
 "cells": [
  {
   "cell_type": "code",
   "execution_count": 1,
   "id": "daed83a0",
   "metadata": {},
   "outputs": [],
   "source": [
    "## learning about the variable\n"
   ]
  },
  {
   "cell_type": "code",
   "execution_count": 9,
   "id": "0ebd4d2a",
   "metadata": {},
   "outputs": [
    {
     "data": {
      "text/plain": [
       "'Soda'"
      ]
     },
     "execution_count": 9,
     "metadata": {},
     "output_type": "execute_result"
    }
   ],
   "source": [
    "can=\"Soda\"\n",
    "can"
   ]
  },
  {
   "cell_type": "code",
   "execution_count": 10,
   "id": "448dbf76",
   "metadata": {},
   "outputs": [
    {
     "data": {
      "text/plain": [
       "'beans'"
      ]
     },
     "execution_count": 10,
     "metadata": {},
     "output_type": "execute_result"
    }
   ],
   "source": [
    "can=\"beans\"\n",
    "can"
   ]
  },
  {
   "cell_type": "code",
   "execution_count": 11,
   "id": "117cd4b8",
   "metadata": {},
   "outputs": [
    {
     "data": {
      "text/plain": [
       "str"
      ]
     },
     "execution_count": 11,
     "metadata": {},
     "output_type": "execute_result"
    }
   ],
   "source": [
    "type(can)"
   ]
  },
  {
   "cell_type": "code",
   "execution_count": 14,
   "id": "bc39e9a1",
   "metadata": {},
   "outputs": [
    {
     "data": {
      "text/plain": [
       "str"
      ]
     },
     "execution_count": 14,
     "metadata": {},
     "output_type": "execute_result"
    }
   ],
   "source": [
    "first_name=\"pratap\"\n",
    "last_name=\"patwal\"\n",
    "type(first_name)\n",
    "type(last_name)"
   ]
  },
  {
   "cell_type": "code",
   "execution_count": 15,
   "id": "891f65c3",
   "metadata": {},
   "outputs": [
    {
     "data": {
      "text/plain": [
       "100"
      ]
     },
     "execution_count": 15,
     "metadata": {},
     "output_type": "execute_result"
    }
   ],
   "source": [
    "pizza=100\n",
    "pizza"
   ]
  },
  {
   "cell_type": "code",
   "execution_count": 16,
   "id": "2a6393ee",
   "metadata": {},
   "outputs": [
    {
     "data": {
      "text/plain": [
       "int"
      ]
     },
     "execution_count": 16,
     "metadata": {},
     "output_type": "execute_result"
    }
   ],
   "source": [
    "type(pizza)"
   ]
  },
  {
   "cell_type": "code",
   "execution_count": 22,
   "id": "ee264ec8",
   "metadata": {},
   "outputs": [
    {
     "data": {
      "text/plain": [
       "15.5"
      ]
     },
     "execution_count": 22,
     "metadata": {},
     "output_type": "execute_result"
    }
   ],
   "source": [
    "samosa=15.5\n",
    "samosa"
   ]
  },
  {
   "cell_type": "code",
   "execution_count": 21,
   "id": "1d46658b",
   "metadata": {},
   "outputs": [
    {
     "data": {
      "text/plain": [
       "float"
      ]
     },
     "execution_count": 21,
     "metadata": {},
     "output_type": "execute_result"
    }
   ],
   "source": [
    "type(samosa)"
   ]
  },
  {
   "cell_type": "code",
   "execution_count": 23,
   "id": "97db08b1",
   "metadata": {},
   "outputs": [
    {
     "data": {
      "text/plain": [
       "40"
      ]
     },
     "execution_count": 23,
     "metadata": {},
     "output_type": "execute_result"
    }
   ],
   "source": [
    "icecream=40\n",
    "icecream"
   ]
  },
  {
   "cell_type": "code",
   "execution_count": 24,
   "id": "878f78d6",
   "metadata": {},
   "outputs": [
    {
     "data": {
      "text/plain": [
       "155.5"
      ]
     },
     "execution_count": 24,
     "metadata": {},
     "output_type": "execute_result"
    }
   ],
   "source": [
    "total=samosa+pizza+icecream\n",
    "total"
   ]
  },
  {
   "cell_type": "code",
   "execution_count": 25,
   "id": "a571dd1c",
   "metadata": {},
   "outputs": [
    {
     "data": {
      "text/plain": [
       "float"
      ]
     },
     "execution_count": 25,
     "metadata": {},
     "output_type": "execute_result"
    }
   ],
   "source": [
    "type(total)"
   ]
  },
  {
   "cell_type": "code",
   "execution_count": 26,
   "id": "ad5a6e9e",
   "metadata": {},
   "outputs": [
    {
     "data": {
      "text/plain": [
       "bool"
      ]
     },
     "execution_count": 26,
     "metadata": {},
     "output_type": "execute_result"
    }
   ],
   "source": [
    "learn_python=True\n",
    "learn_fortran=False\n",
    "type(learn_python)"
   ]
  },
  {
   "cell_type": "code",
   "execution_count": 27,
   "id": "fed01d02",
   "metadata": {},
   "outputs": [
    {
     "data": {
      "text/plain": [
       "'jalebi'"
      ]
     },
     "execution_count": 27,
     "metadata": {},
     "output_type": "execute_result"
    }
   ],
   "source": [
    "foo=\"jalebi\"\n",
    "foo"
   ]
  },
  {
   "cell_type": "code",
   "execution_count": 28,
   "id": "e7d8f2b8",
   "metadata": {},
   "outputs": [
    {
     "data": {
      "text/plain": [
       "'jalebi'"
      ]
     },
     "execution_count": 28,
     "metadata": {},
     "output_type": "execute_result"
    }
   ],
   "source": [
    "bar=foo\n",
    "bar"
   ]
  },
  {
   "cell_type": "code",
   "execution_count": 33,
   "id": "5993bb7c",
   "metadata": {},
   "outputs": [
    {
     "data": {
      "text/plain": [
       "1896994989808"
      ]
     },
     "execution_count": 33,
     "metadata": {},
     "output_type": "execute_result"
    }
   ],
   "source": [
    "id(foo)"
   ]
  },
  {
   "cell_type": "code",
   "execution_count": 31,
   "id": "08260d66",
   "metadata": {},
   "outputs": [
    {
     "data": {
      "text/plain": [
       "1896994989808"
      ]
     },
     "execution_count": 31,
     "metadata": {},
     "output_type": "execute_result"
    }
   ],
   "source": [
    "id(bar)"
   ]
  },
  {
   "cell_type": "code",
   "execution_count": 34,
   "id": "7fea3f6f",
   "metadata": {},
   "outputs": [
    {
     "data": {
      "text/plain": [
       "1896994791344"
      ]
     },
     "execution_count": 34,
     "metadata": {},
     "output_type": "execute_result"
    }
   ],
   "source": [
    "bar=samosa\n",
    "id(bar)"
   ]
  },
  {
   "cell_type": "code",
   "execution_count": 35,
   "id": "8572faa5",
   "metadata": {},
   "outputs": [
    {
     "data": {
      "text/plain": [
       "1896994791344"
      ]
     },
     "execution_count": 35,
     "metadata": {},
     "output_type": "execute_result"
    }
   ],
   "source": [
    "id(samosa)"
   ]
  },
  {
   "cell_type": "code",
   "execution_count": null,
   "id": "831dcc8e",
   "metadata": {},
   "outputs": [],
   "source": [
    "## keyword in python "
   ]
  },
  {
   "cell_type": "code",
   "execution_count": 37,
   "id": "3e3b4169",
   "metadata": {},
   "outputs": [
    {
     "name": "stdout",
     "output_type": "stream",
     "text": [
      "\n",
      "Here is a list of the Python keywords.  Enter any keyword to get more help.\n",
      "\n",
      "False               break               for                 not\n",
      "None                class               from                or\n",
      "True                continue            global              pass\n",
      "__peg_parser__      def                 if                  raise\n",
      "and                 del                 import              return\n",
      "as                  elif                in                  try\n",
      "assert              else                is                  while\n",
      "async               except              lambda              with\n",
      "await               finally             nonlocal            yield\n",
      "\n"
     ]
    }
   ],
   "source": [
    "help(\"keywords\")"
   ]
  },
  {
   "cell_type": "code",
   "execution_count": 38,
   "id": "211ae8c2",
   "metadata": {},
   "outputs": [],
   "source": [
    "# store the principal amount and rate of interest and time in different variables \n",
    "# and then calculate the simple interest for 3 years\n"
   ]
  },
  {
   "cell_type": "code",
   "execution_count": 47,
   "id": "77938a5b",
   "metadata": {},
   "outputs": [
    {
     "name": "stdout",
     "output_type": "stream",
     "text": [
      "Enter the pricipal amount5000\n",
      "Enter the rate5\n",
      "Enter the time5\n",
      "simple interest is  1250.0\n"
     ]
    }
   ],
   "source": [
    "p=int(input(\"Enter the pricipal amount\"))\n",
    "r=int(input(\"Enter the rate\"))\n",
    "t=int(input(\"Enter the time\"))\n",
    "\n",
    "# as we know the formula to calculate the simple interest\n",
    "# si=p*r*t\n",
    "\n",
    "si=p*(r/100)*t\n",
    "print(\"simple interest is \" , si )\n",
    "\n"
   ]
  },
  {
   "cell_type": "code",
   "execution_count": null,
   "id": "c60b22ef",
   "metadata": {},
   "outputs": [],
   "source": []
  }
 ],
 "metadata": {
  "kernelspec": {
   "display_name": "Python 3 (ipykernel)",
   "language": "python",
   "name": "python3"
  },
  "language_info": {
   "codemirror_mode": {
    "name": "ipython",
    "version": 3
   },
   "file_extension": ".py",
   "mimetype": "text/x-python",
   "name": "python",
   "nbconvert_exporter": "python",
   "pygments_lexer": "ipython3",
   "version": "3.9.13"
  }
 },
 "nbformat": 4,
 "nbformat_minor": 5
}
