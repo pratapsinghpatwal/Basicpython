{
 "cells": [
  {
   "cell_type": "code",
   "execution_count": 5,
   "id": "7a3f9063",
   "metadata": {},
   "outputs": [],
   "source": [
    "def find_total(expen) :\n",
    "    total=0\n",
    "    for e in expen :\n",
    "        total=total + e\n",
    "    return total\n"
   ]
  },
  {
   "cell_type": "code",
   "execution_count": 6,
   "id": "7ff90523",
   "metadata": {},
   "outputs": [],
   "source": [
    "\n",
    "exp_raju= [20,40,50,60,50]\n",
    "exp_bhanu=[30,40,40,30,80]\n",
    "\n",
    "\n"
   ]
  },
  {
   "cell_type": "code",
   "execution_count": 11,
   "id": "c2489cab",
   "metadata": {},
   "outputs": [
    {
     "name": "stdout",
     "output_type": "stream",
     "text": [
      "Raju total exp 220\n"
     ]
    }
   ],
   "source": [
    "total=find_total(exp_raju)\n",
    "print(f'Raju total exp {total}')\n"
   ]
  },
  {
   "cell_type": "code",
   "execution_count": 12,
   "id": "8ab0cd0a",
   "metadata": {},
   "outputs": [
    {
     "name": "stdout",
     "output_type": "stream",
     "text": [
      "Bhanu total exp 220\n"
     ]
    }
   ],
   "source": [
    "total=find_total(exp_bhanu)\n",
    "print(f'Bhanu total exp {total}')"
   ]
  },
  {
   "cell_type": "code",
   "execution_count": null,
   "id": "d4dde412",
   "metadata": {},
   "outputs": [],
   "source": []
  }
 ],
 "metadata": {
  "kernelspec": {
   "display_name": "Python 3 (ipykernel)",
   "language": "python",
   "name": "python3"
  },
  "language_info": {
   "codemirror_mode": {
    "name": "ipython",
    "version": 3
   },
   "file_extension": ".py",
   "mimetype": "text/x-python",
   "name": "python",
   "nbconvert_exporter": "python",
   "pygments_lexer": "ipython3",
   "version": "3.9.13"
  }
 },
 "nbformat": 4,
 "nbformat_minor": 5
}
